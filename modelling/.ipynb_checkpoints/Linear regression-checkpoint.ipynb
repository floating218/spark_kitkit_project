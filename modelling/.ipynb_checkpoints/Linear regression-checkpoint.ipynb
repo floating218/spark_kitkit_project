{
 "cells": [
  {
   "cell_type": "markdown",
   "metadata": {},
   "source": [
    "# 매우 단순한 모델링하기 \n",
    "\n",
    "데이터를 가지고 간단한 모델링을 수행해보겠습니다. 여기서는, 문제를 풀 때마다, 응답시간(time response)와 현재 풀고 있는 문제의 시도횟수가 어떤 관련이 있는지를 모델링해보겠습니다. \n",
    "\n",
    "- 독립변수: 응답시간의 기초 통계\n",
    "- 종속변수: 문제의 시도 횟수 (정답률과 같은 개념)"
   ]
  },
  {
   "cell_type": "code",
   "execution_count": 1,
   "metadata": {},
   "outputs": [],
   "source": [
    "from pyspark.storagelevel import StorageLevel\n",
    "import numpy as np\n",
    "import math\n",
    "import re\n",
    "import json\n",
    "import pandas as pd\n",
    "\n",
    "from pyspark.sql import SparkSession\n",
    "from pyspark.sql import Row\n",
    "from pyspark.sql.functions import *\n",
    "from pyspark.sql.types import *\n",
    "from pyspark import SparkContext, SparkConf\n",
    "from pyspark.sql import SQLContext\n",
    "from pyspark import sql\n",
    "from pyspark.storagelevel import StorageLevel\n"
   ]
  },
  {
   "cell_type": "markdown",
   "metadata": {},
   "source": [
    "## 샘플 데이터\n",
    "데이터 보완 문제로 샘플 데이터는 업로드 하지 않았습니다\n",
    "\n",
    "## 처리해야하는 로그 데이터의 구조\n",
    "\n",
    "가공된 데이터는 아래와 같이 단순화되어 있습니다. 데이터는 8명의 사용자가 \"Missing Number\" 게임을 플레이한 정보를 담고 있습니다. 로그 데이터의 예시는 다음과 같습니다."
   ]
  },
  {
   "cell_type": "code",
   "execution_count": 215,
   "metadata": {},
   "outputs": [
    {
     "data": {
      "text/plain": [
       "[{'action': 'Start',\n",
       "  'class': 'Game',\n",
       "  'device': {'device_id': '5A23001564',\n",
       "   'full_id': 'X-57-5A23001564',\n",
       "   'group_id': 'X-57',\n",
       "   'package': 'com.enuma.xprize',\n",
       "   'period': 'Phase2'},\n",
       "  'info': Row(log=Row(index=Row(global=1523, pack=1000), path='/GAME/sw-TZ_M_02/Free/MissingNumber-002', transition='legal'), session=Row(begin=Row(EAT='2018-05-23 12:13:38.604000+03:00', UTC=1527066818.604), index=78), time=Row(device=1527060098, network=Row(EAT='2018-05-23 13:25:31.626480+03:00', UTC=1527071131.62648, updated=True), time_from_prev=Row(global=0.03650403022766113, pack=0.03650403022766113), time_to_next=Row(global=28.686057090759277, pack=None))),\n",
       "  'result': Row(connect_at=None, connect_error=None, day=None, expected=None, index=None, is_correct=None, level=None, page=None, position=None, quiz_type=None, response=None, time_delta=None, updated=None),\n",
       "  'target': 'MissingNumber-002',\n",
       "  'touch': [],\n",
       "  '.func': 'game_Begin'}]"
      ]
     },
     "execution_count": 215,
     "metadata": {},
     "output_type": "execute_result"
    }
   ],
   "source": [
    "samples_save_missing.take(1)"
   ]
  },
  {
   "cell_type": "markdown",
   "metadata": {},
   "source": [
    "## 문제 풀이 단위로 로그 데이터를 묶기\n",
    "\n",
    "우리의 분석 단위는 \"문제 풀이\"입니다. 문제 풀이는 다음과 같이, solve했거나 quit한 것이 데이터 한줄의 단위가 됩니다. \n",
    "\n",
    "- 문제를 시작(start)해서 정답을 맞춰서 (answer하고, result.is_correct==True) Solve함\n",
    "- 문제를 시작(start)했다가 Quit함\n",
    "\n",
    "우리가 만들고자하는 데이터 구조는 아래와 같습니다. \n",
    "\n",
    "```python\n",
    "'pid': 각 줄에 대해 붙인 ID 값으로 , 고유합니다.  \n",
    "'actions': 이 문제를 풀기 위해 사용자가 취한 행동(액션) 리스트\n",
    "'times': 사용자가 취한 각 행동(액션)에 대해 걸린 시간으로, 이전 행동 시점 대비 현재 행동 시점의 타임스탬프 값의 차이로 계산됩니다.\n",
    "'user': 사용자 ID 정보로, ['device']['full_id']에 들어있습니다. \n",
    "'g_name_level_problem': 문제풀이의 대상이 된 게임의 레벨, 문항번호 정보입니다. ['info']['log']['path']에 들어있습니다\n",
    "'is_solve': 문제를 해결했는지 아니면 뒤로가기로 퇴장했는지를 나타냅니다. \n",
    "```\n",
    "\n",
    "데이터 구조화는 아래와 같은 순서로 진행합니다.\n",
    "\n",
    "1. Grouping: 사용자ID별로 로그를 그룹핑\n",
    "2. FlatMap: 각 사용자에 대해 문제 풀이 단위로 로그 데이터를 묶어서 리턴함\n"
   ]
  },
  {
   "cell_type": "code",
   "execution_count": null,
   "metadata": {},
   "outputs": [],
   "source": [
    "# 문제 단위 데이터\n",
    "samples_grouped = samples_save_missing.map(lambda x:Row(**x)).groupBy(lambda x: x['device']['full_id'])\n"
   ]
  },
  {
   "cell_type": "code",
   "execution_count": 70,
   "metadata": {},
   "outputs": [],
   "source": [
    "def group_result_by_problem(group):\n",
    "    \n",
    "    user, logs = group # (key, list) 순서쌍을 분해합니다.\n",
    "    \n",
    "    logs = sorted(logs, key=lambda x: x.info.log['index']['global']) # 목록을 정렬합니다.\n",
    "    logs_by_problem = [] # user별 prolbem 단위로 묶인 logs\n",
    "\n",
    "    basket_id = 0 # 바구니에 id를 부여합니다\n",
    "    basket=[] # 바구니에 problem 하나가 시작해서 끝날 때까지 한 log씩 주어 담듯이, basket 이라는 list를 생성합니다\n",
    "    history_basket={}    \n",
    "\n",
    "    total_encounter_state = [] # 이전에 푼 적 있는지 기록하는 list\n",
    "    solve_state = [] # 이전에 맞춘 적 있는지 기록하는 list\n",
    "    quit_state = [] # 이전에 포기한 적 있는지 기록하는 list\n",
    "    \n",
    "    action_list = [] #액션을 넣는 리스트.\n",
    "    time_list=[]\n",
    "    \n",
    "    for index, log in enumerate(logs):\n",
    "        \n",
    "        action_list.append(log['action'])\n",
    "        time_list.append(log['info']['time']['time_from_prev']['global'])\n",
    "        \n",
    "        \n",
    "        if log['action'] == 'Answer': # Answer하는 경우\n",
    "            \n",
    "            basket.append(log) # 우선 log를 바구니에 담습니다\n",
    "\n",
    "            if log['result']['is_correct'] == False: # 만약 오답을 기입한 경우\n",
    "                pass # 아무런 행동을 하지 않고 다음 log로 넘어갑니다\n",
    "            \n",
    "            else:\n",
    "\n",
    "                history_basket={'user': log['device']['full_id'], \\\n",
    "                                'g_name_level_problem': log['target'], \n",
    "                                'is_solve': 'solve', \\\n",
    "                                }\n",
    "\n",
    "                # 지금까지의 바구니를 basket_id와 함께 logs_by_problem에 append해준 후\n",
    "                logs_by_problem.append(\\\n",
    "                                       {'pid':log['device']['full_id']+'_'+str(basket_id),\\\n",
    "                                        'actions':action_list,\\\n",
    "                                        'times':time_list,\\\n",
    "                                        #'plogs':basket, \n",
    "                                       'user':history_basket['user'], \\\n",
    "                                        'g_name_level_problem':history_basket['g_name_level_problem'], \n",
    "                                        'is_solve':history_basket['is_solve']\n",
    "                                       })\n",
    "\n",
    "                # 바구니를 비워줍니다. 이후 부터는 비운 바구니에 새로 log를 담게 됩니다\n",
    "                basket=[]\n",
    "                action_list=[]\n",
    "                time_list=[]\n",
    "\n",
    "                # 비우고 난 후 새로운 바구니에 새로운 id를 부여합니다\n",
    "                basket_id += 1\n",
    "\n",
    "                # history 바구니를 비워줍니다. 이후 부터는 비운 바구니에 새로 log를 담게 됩니다\n",
    "                history_basket={}\n",
    "\n",
    "                # 바구니를 비운 후 state 설정\n",
    "                total_encounter_state.append(log['target'])\n",
    "                solve_state.append(log['target'])\n",
    "\n",
    "\n",
    "        elif log['action'] == 'Complete': # Complete하는 경우\n",
    "            pass\n",
    "                    \n",
    "        elif log['action'] == 'Quit': # Quit한 경우, 마지막 오답인 경우라도 묶어줘야하므로 포함합니다\n",
    "            \n",
    "            # Quit에서 발생한 log는 별다른 정보가 없으므로 basket에 담지 않습니다\n",
    "            \n",
    "            # 대신 직전에 정의한 history_basket을 아래와 같이 'is_solve' 정보를 수정하여 새로 정의합니다\n",
    "\n",
    "            if '#' not in logs[index-1]['target']: # 만약 Quit을 했는데, 이전 target에 문제번호가 없다면(시작하자마자 quit)\n",
    "            \n",
    "                # 첫문제에서 Quit 한 것이므로(Complete 직후 또는 Quit 직후) 아래와 같이 수정합니다\n",
    "                history_basket={'user':log['device']['full_id'], \\\n",
    "                                     'g_name_level_problem':log['target']+(\"/#0\"), 'is_solve':'quit', \\\n",
    "                                     }\n",
    "                       \n",
    "            else: # 만약 Quit을 했는데, 이전 target에 문제번호가 있다면(풀다가 quit)\n",
    "\n",
    "                # 직전 문제에서 Quit 한 것이므로 아래와 같이 수정합니다\n",
    "                history_basket = {'user':log['device']['full_id'], \\\n",
    "                                'g_name_level_problem':logs[index-1]['target'], 'is_solve':'quit', \\\n",
    "                                }\n",
    "            \n",
    "            # 지금까지의 바구니를 basket_id와 함께 logs_by_problem에 append해준 후\n",
    "            logs_by_problem.append(\\\n",
    "                                   {'pid':log['device']['full_id']+'_'+str(basket_id),\\\n",
    "                                    'actions':action_list,\\\n",
    "                                    'times':time_list,\\\n",
    "                                   # 'plogs':basket, \n",
    "                                    'user':history_basket['user'], \\\n",
    "                                'g_name_level_problem':history_basket['g_name_level_problem'], \n",
    "                                    'is_solve':history_basket['is_solve']})\n",
    "            \n",
    "            # 바구니를 비워줍니다. 이후 부터는 비운 바구니에 새로 log를 담게 됩니다\n",
    "            basket=[]\n",
    "            action_list=[]\n",
    "            time_list=[]\n",
    "\n",
    "            # 비우고 난 후 새로운 바구니에 새로운 id를 부여합니다\n",
    "            basket_id += 1\n",
    "\n",
    "            # history 바구니를 비워줍니다. 이후 부터는 비운 바구니에 새로 log를 담게 됩니다\n",
    "            history_basket={}\n",
    "            \n",
    "            # 바구니를 비운 후 state 설정\n",
    "            total_encounter_state.append(log['target'])\n",
    "            quit_state.append(log['target'])\n",
    "\n",
    "            \n",
    "        else:\n",
    "            pass\n",
    "\n",
    "    return logs_by_problem\n"
   ]
  },
  {
   "cell_type": "code",
   "execution_count": 71,
   "metadata": {},
   "outputs": [
    {
     "data": {
      "text/plain": [
       "PythonRDD[169] at RDD at PythonRDD.scala:48"
      ]
     },
     "execution_count": 71,
     "metadata": {},
     "output_type": "execute_result"
    }
   ],
   "source": [
    "problem_grouped = samples_grouped.flatMap(group_result_by_problem)\n",
    "problem_grouped.persist(StorageLevel.DISK_ONLY)"
   ]
  },
  {
   "cell_type": "markdown",
   "metadata": {},
   "source": [
    "끝으로, 우리는 중도 포기하지 않고 문제를 푼 것에만 관심을 가질 것이기에, 필터링을 해야합니다."
   ]
  },
  {
   "cell_type": "code",
   "execution_count": 75,
   "metadata": {},
   "outputs": [],
   "source": [
    "problem_filtered=problem_grouped.filter(lambda x:x['is_solve']=='solve')"
   ]
  },
  {
   "cell_type": "code",
   "execution_count": 76,
   "metadata": {},
   "outputs": [
    {
     "data": {
      "text/plain": [
       "[{'pid': 'X-57-6116002428_0',\n",
       "  'actions': ['Start', 'Answer'],\n",
       "  'times': [0.03669595718383789, 14.44014310836792],\n",
       "  'user': 'X-57-6116002428',\n",
       "  'g_name_level_problem': 'MissingNumber-001/#0',\n",
       "  'is_solve': 'solve'}]"
      ]
     },
     "execution_count": 76,
     "metadata": {},
     "output_type": "execute_result"
    }
   ],
   "source": [
    "problem_filtered.take(1)"
   ]
  },
  {
   "cell_type": "markdown",
   "metadata": {},
   "source": [
    "## 모델링하기\n",
    "\n",
    "### 이상치(아웃라이어) 대체하기\n",
    "\n",
    "응답 시간은 이상치가 많습니다. 기기 문제로 응답 시간이 음수로 나오거나, 오랫동안 켜놓고 다음 날에 접속하는 경우 응답 시간이 너무 길게 나올 수 있습니다. 이러한 이상치를 검출해서, 상한값이나 하한값으로 대체합니다."
   ]
  },
  {
   "cell_type": "code",
   "execution_count": 184,
   "metadata": {},
   "outputs": [
    {
     "data": {
      "text/plain": [
       "[{'pid': 'X-57-6116002428_0',\n",
       "  'actions': ['Start', 'Answer'],\n",
       "  'times': [0.03669595718383789, 12.802026391029358],\n",
       "  'user': 'X-57-6116002428',\n",
       "  'g_name_level_problem': 'MissingNumber-001/#0',\n",
       "  'is_solve': 'solve'}]"
      ]
     },
     "execution_count": 184,
     "metadata": {},
     "output_type": "execute_result"
    }
   ],
   "source": [
    "def outlier_bottom_top(df):\n",
    "    q1=np.percentile(df, 25)\n",
    "    q3=np.percentile(df, 75)\n",
    "    iqr=q3-q1\n",
    "    bottom=q1-1.5*iqr\n",
    "    top=q3+1.5*iqr\n",
    "    return bottom,top\n",
    "\n",
    "btm,top=outlier_bottom_top(problem_filtered.flatMap(lambda x:x['times']).collect())\n",
    "\n",
    "def replace_outlier(row):\n",
    "    global btm\n",
    "    global top\n",
    "    new_row=row\n",
    "    times=new_row['times']\n",
    "    times=[0 if t<0 else t for t in times]\n",
    "    times=[top if t>top else t for t in times]\n",
    "    new_row['times']=times\n",
    "    return new_row\n",
    "\n",
    "problem_filtered_replaced=problem_filtered.map(replace_outlier)\n",
    "problem_filtered_replaced.take(1)"
   ]
  },
  {
   "cell_type": "markdown",
   "metadata": {},
   "source": [
    "## 관심 있는 Feature 뽑기\n",
    "\n",
    "모델링을 위해 사용할 피쳐를 아래와 같이 디자인할 것입니다. \n",
    "\n",
    "```python\n",
    "'time_first': 첫번째 응답시간\n",
    "'time_min': 응답시간의 최소값\n",
    "'time_max': 응답시간의 최대값\n",
    "'time_mean': 응답시간의 평균\n",
    "'time_median': 응답시간의 중위값\n",
    "'time_final': 마지막 응답시간\n",
    "'attempt_time': 답 입력 횟수\n",
    "```\n",
    "\n",
    "함수를 짜면"
   ]
  },
  {
   "cell_type": "code",
   "execution_count": 185,
   "metadata": {},
   "outputs": [],
   "source": [
    "import numpy as np\n",
    "def extract_features(row):\n",
    "    new_row=dict()\n",
    "    '''\n",
    "    'time_first': 첫번째 응답시간\n",
    "    'time_min': 응답시간의 최소값\n",
    "    'time_max': 응답시간의 최대값\n",
    "    'time_mean': 응답시간의 평균\n",
    "    'time_median': 응답시간의 중위값\n",
    "    'time_final': 마지막 응답시간\n",
    "    'attempt_time': 답 입력 횟수\n",
    "    '''\n",
    "    new_row['time_first']=row['times'][0]\n",
    "    new_row['time_min']=sorted(row['times'])[0]\n",
    "    new_row['time_max']=sorted(row['times'])[-1]\n",
    "    new_row['time_mean']=np.mean(row['times'])\n",
    "    new_row['time_median']=np.median(row['times'])\n",
    "    new_row['time_final']=row['times'][-1]\n",
    "    new_row['attempt_time']=np.sum([1 for a in row['actions'] if a=='Answer'])\n",
    "    \n",
    "    return new_row\n",
    "\n",
    "problem_features=problem_filtered_replaced.filter(lambda x:x!=None and x['times']!=None and x['actions']!=None).\\\n",
    "filter(lambda x:x['times']!=[]).map(extract_features)\n",
    "    "
   ]
  },
  {
   "cell_type": "code",
   "execution_count": 186,
   "metadata": {},
   "outputs": [
    {
     "data": {
      "text/plain": [
       "[{'time_first': 0.03669595718383789,\n",
       "  'time_min': 0.03669595718383789,\n",
       "  'time_max': 12.802026391029358,\n",
       "  'time_mean': 6.419361174106598,\n",
       "  'time_median': 6.419361174106598,\n",
       "  'time_final': 12.802026391029358,\n",
       "  'attempt_time': 1}]"
      ]
     },
     "execution_count": 186,
     "metadata": {},
     "output_type": "execute_result"
    }
   ],
   "source": [
    "problem_features.take(1)"
   ]
  },
  {
   "cell_type": "markdown",
   "metadata": {},
   "source": [
    "RDD를 데이터 프레임으로 바꿉니다. "
   ]
  },
  {
   "cell_type": "code",
   "execution_count": 187,
   "metadata": {},
   "outputs": [],
   "source": [
    "problem_collected=problem_features.collect()"
   ]
  },
  {
   "cell_type": "code",
   "execution_count": 188,
   "metadata": {},
   "outputs": [],
   "source": [
    "import pandas as pd\n",
    "df=pd.DataFrame(problem_collected)"
   ]
  },
  {
   "cell_type": "markdown",
   "metadata": {},
   "source": [
    "## 분포를 시각화\n",
    "\n",
    "Target에 해당하는 데이터를 히스토그램으로 시각화해보겠습니다. 결과를 보면 1~2번의 시도 이내에 문제를 solve한 경우가 대다수였습니다."
   ]
  },
  {
   "cell_type": "code",
   "execution_count": 189,
   "metadata": {},
   "outputs": [
    {
     "data": {
      "image/png": "[encoded data removed]",
      "text/plain": [
       "<Figure size 432x288 with 1 Axes>"
      ]
     },
     "metadata": {
      "needs_background": "light"
     },
     "output_type": "display_data"
    }
   ],
   "source": [
    "import matplotlib.pyplot as plt\n",
    "plt.hist(df['attempt_time'],bins=30)\n",
    "plt.show()"
   ]
  },
  {
   "cell_type": "markdown",
   "metadata": {},
   "source": [
    "### Linear regression 모델 만들기"
   ]
  },
  {
   "cell_type": "code",
   "execution_count": 192,
   "metadata": {},
   "outputs": [
    {
     "data": {
      "text/plain": [
       "LinearRegression()"
      ]
     },
     "execution_count": 192,
     "metadata": {},
     "output_type": "execute_result"
    }
   ],
   "source": [
    "from sklearn.linear_model import LinearRegression\n",
    "X=df.drop(['attempt_time'],axis=1)\n",
    "y=df[['attempt_time']]\n",
    "lr = LinearRegression()\n",
    "lr.fit(X, y)"
   ]
  },
  {
   "cell_type": "markdown",
   "metadata": {},
   "source": [
    "### Coefficient 프린트"
   ]
  },
  {
   "cell_type": "code",
   "execution_count": 193,
   "metadata": {},
   "outputs": [
    {
     "data": {
      "text/html": [
       "<div>\n",
       "<style scoped>\n",
       "    .dataframe tbody tr th:only-of-type {\n",
       "        vertical-align: middle;\n",
       "    }\n",
       "\n",
       "    .dataframe tbody tr th {\n",
       "        vertical-align: top;\n",
       "    }\n",
       "\n",
       "    .dataframe thead th {\n",
       "        text-align: right;\n",
       "    }\n",
       "</style>\n",
       "<table border=\"1\" class=\"dataframe\">\n",
       "  <thead>\n",
       "    <tr style=\"text-align: right;\">\n",
       "      <th></th>\n",
       "      <th>time_first</th>\n",
       "      <th>time_min</th>\n",
       "      <th>time_max</th>\n",
       "      <th>time_mean</th>\n",
       "      <th>time_median</th>\n",
       "      <th>time_final</th>\n",
       "    </tr>\n",
       "  </thead>\n",
       "  <tbody>\n",
       "    <tr>\n",
       "      <th>0</th>\n",
       "      <td>0.006218</td>\n",
       "      <td>1.526185</td>\n",
       "      <td>1.34574</td>\n",
       "      <td>-4.986403</td>\n",
       "      <td>1.70545</td>\n",
       "      <td>-0.048102</td>\n",
       "    </tr>\n",
       "  </tbody>\n",
       "</table>\n",
       "</div>"
      ],
      "text/plain": [
       "   time_first  time_min  time_max  time_mean  time_median  time_final\n",
       "0    0.006218  1.526185   1.34574  -4.986403      1.70545   -0.048102"
      ]
     },
     "execution_count": 193,
     "metadata": {},
     "output_type": "execute_result"
    }
   ],
   "source": [
    "coefs=pd.DataFrame(lr.coef_)\n",
    "coefs.columns=X.columns\n",
    "coefs"
   ]
  },
  {
   "cell_type": "markdown",
   "metadata": {},
   "source": [
    "### R square\n",
    "\n",
    "R square 값을 통해 회귀 모델의 정확도을 알 수 있습니다."
   ]
  },
  {
   "cell_type": "code",
   "execution_count": 194,
   "metadata": {},
   "outputs": [
    {
     "data": {
      "text/plain": [
       "0.6702498357978728"
      ]
     },
     "execution_count": 194,
     "metadata": {},
     "output_type": "execute_result"
    }
   ],
   "source": [
    "lr.score(X,y)"
   ]
  },
  {
   "cell_type": "markdown",
   "metadata": {},
   "source": [
    "### Feature selection\n",
    "\n",
    "6개의 피쳐를 전부 사용한 것과, 몇개의 피쳐만을 사용한 것 간의 R square값을 비교했더니, 전부 사용한 것이 더 높았습니다."
   ]
  },
  {
   "cell_type": "code",
   "execution_count": 195,
   "metadata": {},
   "outputs": [
    {
     "data": {
      "text/plain": [
       "(0.6702498357978728,\n",
       " ['time_first',\n",
       "  'time_min',\n",
       "  'time_max',\n",
       "  'time_mean',\n",
       "  'time_median',\n",
       "  'time_final'])"
      ]
     },
     "execution_count": 195,
     "metadata": {},
     "output_type": "execute_result"
    }
   ],
   "source": [
    "lr = LinearRegression()\n",
    "lr.fit(X, y)\n",
    "temp=lr.score(X,y)\n",
    "temp_columns=list(X.columns)\n",
    "\n",
    "while(True):\n",
    "    \n",
    "    if len(temp_columns)==1:\n",
    "        break\n",
    "    \n",
    "    #하나씩 뺸다. \n",
    "    lst=[]\n",
    "    col_lst=[]\n",
    "    \n",
    "    for i in range(len(temp_columns)):\n",
    "        temp_temp_cols=[t for t in temp_columns]\n",
    "        temp_temp_cols.pop(i)\n",
    "        lr = LinearRegression()\n",
    "        lr.fit(X[temp_temp_cols], y)\n",
    "        s=lr.score(X[temp_temp_cols],y)\n",
    "        lst.append(s)\n",
    "        col_lst.append(cols)\n",
    "    \n",
    "    s=np.max(lst)\n",
    "    if temp<s:\n",
    "        temp_columns=col_lst[lst.index(s)]\n",
    "    elif temp>=s:\n",
    "        break\n",
    "\n",
    "temp,temp_columns"
   ]
  }
 ],
 "metadata": {
  "kernelspec": {
   "display_name": "Python 3",
   "language": "python",
   "name": "python3"
  },
  "language_info": {
   "codemirror_mode": {
    "name": "ipython",
    "version": 3
   },
   "file_extension": ".py",
   "mimetype": "text/x-python",
   "name": "python",
   "nbconvert_exporter": "python",
   "pygments_lexer": "ipython3",
   "version": "3.6.9"
  }
 },
 "nbformat": 4,
 "nbformat_minor": 4
}
