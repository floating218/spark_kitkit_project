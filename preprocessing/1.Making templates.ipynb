{
 "cells": [
  {
   "cell_type": "markdown",
   "metadata": {},
   "source": [
    "# 템플릿을 적용한 로그 데이터 전처리"
   ]
  },
  {
   "cell_type": "markdown",
   "metadata": {},
   "source": [
    "** 이 포스트는 수업시간에서 박사과정 조교분이 제작해주신 강의노트를 재구성해서 작성하였습니다.\n",
    "\n",
    "## Kitkit school에서 수집한 로그 데이터\n",
    "\n",
    "킷킷 스쿨 게임을 플레이하면 docs/폴더에 로그 파일이 저장되는데요\n",
    "\n",
    "사용자가 게임을 플레이하면서 하나의 \"ACTION\"을 취할 때마다 한줄의 로그 데이터가 기록이 됩니다.\n",
    "\n",
    "전체 데이터 로그의 RDD를 rdd라고 했을때, 샘플 데이터 몇개만 뽑아서 진행해보도록 하겠습니다. "
   ]
  },
  {
   "cell_type": "code",
   "execution_count": 2,
   "metadata": {},
   "outputs": [],
   "source": [
    "import os\n",
    "import zipfile\n",
    "import json\n",
    "\n",
    "def zip_files_parser(dirpath, zipname):\n",
    "    \n",
    "    # 복잡한 데이터를 담기 위해, dictionary를 element로 하는 list 만들기\n",
    "    result = []\n",
    "    # zip file 열기\n",
    "    with zipfile.ZipFile(dirpath + zipname) as z: #압축파일을 해제해서\n",
    "        # zip file 안에 있는 파일의 이름들을 가지고 오기\n",
    "        for filename in z.namelist(): #압축파일 안의 각 파일이름마다\n",
    "            # zip file 이름을 하나씩 열기\n",
    "            # filnename : ....txt\n",
    "            with z.open(filename) as f: #압축파일 내에서 filename을 연다.  \n",
    "                # file을 한줄씩 읽기\n",
    "                for line in f: \n",
    "                    # result list에 append 하기\n",
    "                    result.append(json.loads(line)) #.txt하나당 한줄씩 추가함. \n",
    "                    \n",
    "                    \n",
    "    return result #압축 파일마다 [리스트] 하나씩 나옴\n",
    "\n",
    "sample_files_list = []\n",
    "for (dirpath, dirnames, filenames) in os.walk('../data/sample_data'):\n",
    "    sample_files_list.extend((filenames))\n",
    "    break\n",
    "\n",
    "sample_data = []\n",
    "for i in sample_files_list:\n",
    "    sample_data.extend(zip_files_parser('../data/sample_data/', i)) \n",
    "    \n",
    "    # [리스트]+[리스트]+.. = [더 긴 리스트]"
   ]
  },
  {
   "cell_type": "markdown",
   "metadata": {},
   "source": [
    "로그 데이터 한줄의 예시는 아래와 같습니다."
   ]
  },
  {
   "cell_type": "code",
   "execution_count": 3,
   "metadata": {},
   "outputs": [
    {
     "data": {
      "text/plain": [
       "{'appName': 'xprize',\n",
       " 'timeStamp': 1578385851,\n",
       " 'event': {'!datetime': '2020-01-07T08:30:51Z',\n",
       "  '.func': 'touchEvent_Begin_End',\n",
       "  '0.nodeName': 'QuickFactsScene',\n",
       "  '1.data': 'eHNEeHNGeHNIeHNLeHNL',\n",
       "  '_localTimestamp': 1578385851.102077,\n",
       "  '_userName': 'user0',\n",
       "  'action': 'StrictLogManager'},\n",
       " 'sntp': -1,\n",
       " 'user': 'user0'}"
      ]
     },
     "execution_count": 3,
     "metadata": {},
     "output_type": "execute_result"
    }
   ],
   "source": [
    "sample_data[30]"
   ]
  },
  {
   "cell_type": "markdown",
   "metadata": {},
   "source": [
    "위 데이터를 보시면, 'QuickFacts'라는 게임에서 \n",
    "'touchEvent'가 발생하였음을 알 수 있습니다.\n",
    "데이터 스키마 형태로 정리하면\n",
    "\n",
    "### 데이터 스키마\n",
    "\n",
    "```\n",
    "|- appName: <class 'str'>\n",
    "|- timeStamp: <class 'int'>\n",
    "|- event: <class 'dict'>\n",
    "|  |- !datetime: <class 'str'>\n",
    "|  |- .func: <class 'str'>\n",
    "|  |- 0.nodeName: <class 'str'>\n",
    "|  |- 1.data: <class 'str'>\n",
    "|  |- _localTimestamp: <class 'float'>\n",
    "|  |- _userName: <class 'str'>\n",
    "|  |- action: <class 'str'>\n",
    "|- sntp: <class 'int'>\n",
    "|- user: <class 'str'>\n",
    "```\n",
    "\n",
    "사용자가 어떤 게임을 했는지, 어떤 행동을 취했는지에 따라 .func의 종류가 달라집니다. 그리고 이 .func의 종류에 따라 0.nodeName, 1.data등 나머지 데이터 구조도 달라지는데요, 다른 로그 데이터의 예시를 보시면 다음과 같습니다."
   ]
  },
  {
   "cell_type": "code",
   "execution_count": 5,
   "metadata": {},
   "outputs": [
    {
     "data": {
      "text/plain": [
       "{'appName': 'xprize',\n",
       " 'timeStamp': 1578385877,\n",
       " 'event': {'!datetime': '2020-01-07T08:31:17Z',\n",
       "  '.func': 'game_Peek_Answer',\n",
       "  '0.gameName': 'EquationMaker',\n",
       "  '1.workPath': '/EquationMaker/level-11-0/work-1',\n",
       "  '2.userAnswer': '/3/4',\n",
       "  '3.correctAnswer': '/3/4',\n",
       "  '_localTimestamp': 1578385877.612775,\n",
       "  '_userName': 'user0',\n",
       "  'action': 'StrictLogManager'},\n",
       " 'sntp': -1,\n",
       " 'user': 'user0'}"
      ]
     },
     "execution_count": 5,
     "metadata": {},
     "output_type": "execute_result"
    }
   ],
   "source": [
    "sample_data[51]"
   ]
  },
  {
   "cell_type": "markdown",
   "metadata": {},
   "source": [
    "2번째 데이터 로그는 .func이 'touchEvent_Begin_End'였던 1번째 데이터 로그와는 달리 2번째 데이터 로그의 .func은 'game_Peek_Answer'입니다. '0.nodeName', '1.data' 등의 데이터가 등장하는 1번 로그와는 달리, 2번 로그에서는 '0.gameName', '1.workPath', '2.userAnswer', '3.correctAnswer' 등이 있습니다.\n",
    "\n",
    "### .func에 올 수 있는 모든 정보"
   ]
  },
  {
   "cell_type": "code",
   "execution_count": 10,
   "metadata": {},
   "outputs": [],
   "source": [
    "#event_func_type\n",
    "event_func_list=['touchEvent_Begin_End',\n",
    " 'dailyGameChoice_ChooseDailyGame',\n",
    " 'game_Begin',\n",
    " 'game_Peek_Answer',\n",
    " 'game_End_Complete',\n",
    " 'eggQuiz_CorrectAnswer',\n",
    " 'starStat_UpdateStarInKitKitSchool',\n",
    " 'dailyGameChoice_End_Complete',\n",
    " 'dailyGameChoice_Begin',\n",
    " 'video_Begin',\n",
    " 'video_End_Complete',\n",
    " 'eggQuiz_WrongAnswer',\n",
    " 'game_End_Quit',\n",
    " 'dayChoice_End_Complete',\n",
    " 'courseChoice_End',\n",
    " 'curriculumChoice_TouchCoop',\n",
    " 'courseChoice_Begin',\n",
    " 'courseChoice_TouchAnimal',\n",
    " 'dayChoice_Begin',\n",
    " 'gameTutorialVideo_Begin',\n",
    " 'gameTutorialVideo_End',\n",
    " 'dayChoice_End_Quit',\n",
    " 'dayChoice_OpenFreeChoiceLevelPopup',\n",
    " 'dayChoice_ChooseFreeChoiceGame',\n",
    " 'dayChoice_CloseFreeChoiceLevelPopup',\n",
    " 'curriculumChoice_Begin',\n",
    " 'touchEvent_Begin_Cancel',\n",
    " 'touchEvent_Begin_Begin',\n",
    " 'video_End_Quit',\n",
    " 'dailyGameChoice_End_Quit',\n",
    " 'dayChoice_CloseFreeChoiceMenu',\n",
    " 'courseChoice_ShowNewAnimal',\n",
    " 'curriculumChoice_End']"
   ]
  },
  {
   "cell_type": "markdown",
   "metadata": {},
   "source": [
    ".func에 올 수 있는 모든 정보를 정리하면 위와 같이 매우 다양합니다.\n",
    "\n",
    "## 전체 데이터 로그에 적용할 수 있는 템플릿\n",
    "\n",
    "로그의 .func마다 스키마 구조가 다르기 때문에, 모든 .func에 대해 나타날 수 있는 키값을 새로운 키값으로 구조화시키고, 이 키들은 event 키 하위에 놓겠습니다. 구조는 다음과 같이 변형할 것입니다.\n",
    "\n",
    "```json\n",
    "\n",
    "  |- 'appName'\n",
    "  |- 'timeStamp'\n",
    "  |- 'sntp'\n",
    "  |- 'user\n",
    "  |- 'event':\n",
    "      |- event key1\n",
    "      |- event key2\n",
    "      |- event key3\n",
    "      |- ...\n",
    "```\n",
    "\n",
    "변형하기 위한 함수를 짰습니다. "
   ]
  },
  {
   "cell_type": "code",
   "execution_count": 11,
   "metadata": {},
   "outputs": [
    {
     "data": {
      "text/plain": [
       "['category',\n",
       " '1.answer',\n",
       " '0.oldStars',\n",
       " '1.workPath',\n",
       " '0.nodeName',\n",
       " '2.param',\n",
       " '1.correctAnswer',\n",
       " '_localTimestamp',\n",
       " '.func',\n",
       " 'label',\n",
       " '2.choiceIndex',\n",
       " '0.levelID',\n",
       " '1.newStars',\n",
       " '3.result',\n",
       " '_userName',\n",
       " '2.result',\n",
       " '1.duration',\n",
       " '2.userAnswer',\n",
       " '2.myAnswer',\n",
       " '1.dayID',\n",
       " '3.answerIndex',\n",
       " '0.problemIndex',\n",
       " '3.correctAnswer',\n",
       " 'value',\n",
       " '2.targetCount',\n",
       " '1.gameLevel',\n",
       " 'action',\n",
       " '1.data',\n",
       " '!datetime',\n",
       " '2.answerIndex',\n",
       " '0.videoName',\n",
       " '2.duration',\n",
       " '1.openCount',\n",
       " '0.gameName']"
      ]
     },
     "execution_count": 11,
     "metadata": {},
     "output_type": "execute_result"
    }
   ],
   "source": [
    "# part1) .func이 존재하는 데이터의 하위 키값을 저장합니다\n",
    "# '.func' 종류에 따라 event의 key 값을 반환하는 함수\n",
    "def key_extraction_from_event_func(event_func_type,sample_data):\n",
    "    for item in sample_data:\n",
    "        if '.func' in list(item['event'].keys()): #.func키가 있을 경우           \n",
    "            if item['event']['.func'] == event_func_type: #해당 .func인 경우에\n",
    "                first_event_func_data = item \n",
    "                break\n",
    "            else:\n",
    "                pass\n",
    "        else: # .func키가 없는 경우 (= DailyScene)\n",
    "            pass \n",
    "    return list(item['event'].keys()) #해당 .func인 item의 event key들의 리스트를 뽑음.\n",
    "\n",
    "# 모든 event key를 저장할 event_keys_list 생성\n",
    "event_keys_list = []\n",
    "\n",
    "# key_extraction_from_event_func를 통해 모든 key 값을 도출하여 template 만들기\n",
    "for event_func_type in event_func_list:\n",
    "    event_keys_list.extend(key_extraction_from_event_func(event_func_type,sample_data))\n",
    "\n",
    "# part2) .func이 조재하지 않는 데이터의 하위 키값도 저장합니다.\n",
    "for item in sample_data:\n",
    "    if '.func' in list(item['event'].keys()):\n",
    "        pass\n",
    "    else:\n",
    "        event_keys_list.extend(list(item['event'].keys()))\n",
    "        break\n",
    "\n",
    "# part3) 저장된 키값의 중복을 제거합니다.\n",
    "event_keys_list #모든 이벤트의 키값을 저장하는 리스트\n",
    "event_keys_list=list(set(event_keys_list)) #중복 제거\n",
    "event_keys_list"
   ]
  },
  {
   "cell_type": "markdown",
   "metadata": {},
   "source": [
    "### 키값을 가지고 빈 템플릿 만들기"
   ]
  },
  {
   "cell_type": "code",
   "execution_count": 12,
   "metadata": {},
   "outputs": [
    {
     "data": {
      "text/plain": [
       "{'category': None,\n",
       " '1.answer': None,\n",
       " '0.oldStars': None,\n",
       " '1.workPath': None,\n",
       " '0.nodeName': None,\n",
       " '2.param': None,\n",
       " '1.correctAnswer': None,\n",
       " '_localTimestamp': None,\n",
       " '.func': None,\n",
       " 'label': None,\n",
       " '2.choiceIndex': None,\n",
       " '0.levelID': None,\n",
       " '1.newStars': None,\n",
       " '3.result': None,\n",
       " '_userName': None,\n",
       " '2.result': None,\n",
       " '1.duration': None,\n",
       " '2.userAnswer': None,\n",
       " '2.myAnswer': None,\n",
       " '1.dayID': None,\n",
       " '3.answerIndex': None,\n",
       " '0.problemIndex': None,\n",
       " '3.correctAnswer': None,\n",
       " 'value': None,\n",
       " '2.targetCount': None,\n",
       " '1.gameLevel': None,\n",
       " 'action': None,\n",
       " '1.data': [],\n",
       " '!datetime': None,\n",
       " '2.answerIndex': None,\n",
       " '0.videoName': None,\n",
       " '2.duration': None,\n",
       " '1.openCount': None,\n",
       " '0.gameName': None}"
      ]
     },
     "execution_count": 12,
     "metadata": {},
     "output_type": "execute_result"
    }
   ],
   "source": [
    "#모든 event 산하의 키들에 대해 None을 집어넣은 템플릿을 만든다. \n",
    "event_template = {k : None for k in event_keys_list}\n",
    "event_template['1.data'] = []\n",
    "event_template"
   ]
  },
  {
   "cell_type": "markdown",
   "metadata": {},
   "source": [
    "### 빈 템플릿에 데이터 로그 정보를 끼어넣어서 새 데이터 완성"
   ]
  },
  {
   "cell_type": "code",
   "execution_count": 13,
   "metadata": {},
   "outputs": [
    {
     "data": {
      "text/plain": [
       "{'appName': 'xprize',\n",
       " 'timeStamp': 1578385793,\n",
       " 'sntp': -1,\n",
       " 'user': 'user0',\n",
       " 'event': {'category': None,\n",
       "  '1.answer': None,\n",
       "  '0.oldStars': None,\n",
       "  '1.workPath': '/wordwindow/level-17-3/work-4',\n",
       "  '0.nodeName': None,\n",
       "  '2.param': None,\n",
       "  '1.correctAnswer': None,\n",
       "  '_localTimestamp': 1578385793.525363,\n",
       "  '.func': 'game_Peek_Answer',\n",
       "  'label': None,\n",
       "  '2.choiceIndex': None,\n",
       "  '0.levelID': None,\n",
       "  '1.newStars': None,\n",
       "  '3.result': None,\n",
       "  '_userName': 'user0',\n",
       "  '2.result': None,\n",
       "  '1.duration': None,\n",
       "  '2.userAnswer': '1',\n",
       "  '2.myAnswer': None,\n",
       "  '1.dayID': None,\n",
       "  '3.answerIndex': None,\n",
       "  '0.problemIndex': None,\n",
       "  '3.correctAnswer': '1',\n",
       "  'value': None,\n",
       "  '2.targetCount': None,\n",
       "  '1.gameLevel': None,\n",
       "  'action': 'StrictLogManager',\n",
       "  '1.data': [],\n",
       "  '!datetime': '2020-01-07T08:29:53Z',\n",
       "  '2.answerIndex': None,\n",
       "  '0.videoName': None,\n",
       "  '2.duration': None,\n",
       "  '1.openCount': None,\n",
       "  '0.gameName': 'workwindow'}}"
      ]
     },
     "execution_count": 13,
     "metadata": {},
     "output_type": "execute_result"
    }
   ],
   "source": [
    "def input_data_to_template(raw_data):\n",
    "    \n",
    "    user_event_template = event_template.copy()\n",
    "    user_event_template.update(raw_data['event']) \n",
    "\t#빈 템플릿에 raw_data의 event 영역을 채워넣습니다.  \n",
    "    \n",
    "    return {\n",
    "            'appName': raw_data['appName'],\n",
    "            'timeStamp': raw_data['timeStamp'],\n",
    "            'sntp': raw_data['sntp'],\n",
    "            'user': raw_data['user'],\n",
    "            'event': user_event_template\n",
    "        }\n",
    "\n",
    "input_data_to_template(sample_data[10])"
   ]
  },
  {
   "cell_type": "markdown",
   "metadata": {},
   "source": [
    "## 전체 데이터 처리하고 json파일로 저장"
   ]
  },
  {
   "cell_type": "code",
   "execution_count": 18,
   "metadata": {},
   "outputs": [],
   "source": [
    "import json\n",
    "final_templates=[input_data_to_template(s) for s in sample_data]\n",
    "file_path=\"../data/sample_data_template.json\"\n",
    "with open(file_path, 'w') as outfile:\n",
    "    json.dump(final_templates, outfile, indent=4)"
   ]
  }
 ],
 "metadata": {
  "kernelspec": {
   "display_name": "Python 3",
   "language": "python",
   "name": "python3"
  },
  "language_info": {
   "codemirror_mode": {
    "name": "ipython",
    "version": 3
   },
   "file_extension": ".py",
   "mimetype": "text/x-python",
   "name": "python",
   "nbconvert_exporter": "python",
   "pygments_lexer": "ipython3",
   "version": "3.6.9"
  }
 },
 "nbformat": 4,
 "nbformat_minor": 4
}
